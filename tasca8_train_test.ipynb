{
 "cells": [
  {
   "cell_type": "markdown",
   "metadata": {},
   "source": [
    "# Practicant amb training i test sets\n",
    "\n"
   ]
  },
  {
   "cell_type": "code",
   "execution_count": 1,
   "metadata": {},
   "outputs": [],
   "source": [
    "# Data \n",
    "#---------------------------------------------\n",
    "import numpy as np\n",
    "import pandas as pd\n",
    "\n",
    "# Data visualization\n",
    "#----------------------------------------------\n",
    "import matplotlib \n",
    "import matplotlib.pyplot as plt\n",
    "\n",
    "%matplotlib inline\n",
    "\n",
    "import seaborn as sns\n",
    "\n",
    "# Prepocesing\n",
    "#----------------------------------------------\n",
    "from sklearn.model_selection import train_test_split\n",
    "\n",
    "from sklearn.preprocessing import StandardScaler, MinMaxScaler, PolynomialFeatures"
   ]
  },
  {
   "cell_type": "markdown",
   "metadata": {},
   "source": [
    "# 1. Ingesta de datos"
   ]
  },
  {
   "cell_type": "code",
   "execution_count": 2,
   "metadata": {},
   "outputs": [],
   "source": [
    "df=pd.read_csv('vuelos_final.csv')"
   ]
  },
  {
   "cell_type": "code",
   "execution_count": 3,
   "metadata": {},
   "outputs": [
    {
     "name": "stdout",
     "output_type": "stream",
     "text": [
      "<class 'pandas.core.frame.DataFrame'>\n",
      "RangeIndex: 1936756 entries, 0 to 1936755\n",
      "Data columns (total 32 columns):\n",
      " #   Column             Dtype  \n",
      "---  ------             -----  \n",
      " 0   Date               object \n",
      " 1   DayOfYear          int64  \n",
      " 2   Year               int64  \n",
      " 3   Month              int64  \n",
      " 4   Day                int64  \n",
      " 5   DayOfWeek          int64  \n",
      " 6   Hour               int64  \n",
      " 7   Status             object \n",
      " 8   ArrDelay           float64\n",
      " 9   DepDelay           float64\n",
      " 10  TaxiIn             float64\n",
      " 11  TaxiOut            float64\n",
      " 12  CancellationCode   object \n",
      " 13  UniqueCarrier      object \n",
      " 14  CarrierName        object \n",
      " 15  TailNum            object \n",
      " 16  YearOfManufact     float64\n",
      " 17  Origin             object \n",
      " 18  Dest               object \n",
      " 19  FlightNum          int64  \n",
      " 20  Distance           int64  \n",
      " 21  Skyway             object \n",
      " 22  city_or            object \n",
      " 23  state_or           object \n",
      " 24  country            object \n",
      " 25  city_dest          object \n",
      " 26  state_dest         object \n",
      " 27  CarrierDelay       float64\n",
      " 28  WeatherDelay       float64\n",
      " 29  NASDelay           float64\n",
      " 30  SecurityDelay      float64\n",
      " 31  LateAircraftDelay  float64\n",
      "dtypes: float64(10), int64(8), object(14)\n",
      "memory usage: 472.8+ MB\n"
     ]
    }
   ],
   "source": [
    "df.info()"
   ]
  },
  {
   "cell_type": "code",
   "execution_count": 4,
   "metadata": {},
   "outputs": [],
   "source": [
    "# New features\n",
    "delayed={'On time':0,\n",
    "         'Delayed':1,\n",
    "         'Highly Delayed':1,\n",
    "         'Diverted':2,\n",
    "         'Cancelled':2}\n",
    "\n",
    "df['Is_Delayed']=df['Status'].map(delayed)"
   ]
  },
  {
   "cell_type": "code",
   "execution_count": 6,
   "metadata": {},
   "outputs": [],
   "source": [
    "# New feature - Number of flights por hour on origin\n",
    "df=df.join(df.groupby(['Origin','Date','Hour'])[['FlightNum']].count(),\n",
    "           how='left',\n",
    "           on=['Origin','Date','Hour'],\n",
    "           rsuffix='h_')"
   ]
  },
  {
   "cell_type": "code",
   "execution_count": 7,
   "metadata": {},
   "outputs": [],
   "source": [
    "# New feature - Number of flights por day on origin\n",
    "df=df.join(df.groupby(['Origin','Date'])[['FlightNum']].count(),\n",
    "           how='left',\n",
    "           on=['Origin','Date'],\n",
    "           rsuffix='d_')"
   ]
  },
  {
   "cell_type": "code",
   "execution_count": 8,
   "metadata": {},
   "outputs": [],
   "source": [
    "df.rename(columns={'FlightNumh_':'flights_hour',\n",
    "                   'FlightNumd_':'flights_day'}, inplace=True)"
   ]
  },
  {
   "cell_type": "code",
   "execution_count": 9,
   "metadata": {},
   "outputs": [],
   "source": [
    "# Drop features\n",
    "df.drop(axis=1,columns=['Date','Year','Status','CancellationCode','CarrierName','TailNum','FlightNum',\n",
    "                        'city_or','state_or','city_dest','state_dest','country'], inplace=True)"
   ]
  },
  {
   "cell_type": "code",
   "execution_count": 10,
   "metadata": {},
   "outputs": [
    {
     "name": "stdout",
     "output_type": "stream",
     "text": [
      "<class 'pandas.core.frame.DataFrame'>\n",
      "RangeIndex: 1936756 entries, 0 to 1936755\n",
      "Data columns (total 23 columns):\n",
      " #   Column             Dtype  \n",
      "---  ------             -----  \n",
      " 0   DayOfYear          int64  \n",
      " 1   Month              int64  \n",
      " 2   Day                int64  \n",
      " 3   DayOfWeek          int64  \n",
      " 4   Hour               int64  \n",
      " 5   ArrDelay           float64\n",
      " 6   DepDelay           float64\n",
      " 7   TaxiIn             float64\n",
      " 8   TaxiOut            float64\n",
      " 9   UniqueCarrier      object \n",
      " 10  YearOfManufact     float64\n",
      " 11  Origin             object \n",
      " 12  Dest               object \n",
      " 13  Distance           int64  \n",
      " 14  Skyway             object \n",
      " 15  CarrierDelay       float64\n",
      " 16  WeatherDelay       float64\n",
      " 17  NASDelay           float64\n",
      " 18  SecurityDelay      float64\n",
      " 19  LateAircraftDelay  float64\n",
      " 20  Is_Delayed         int64  \n",
      " 21  flights_hour       int64  \n",
      " 22  flights_day        int64  \n",
      "dtypes: float64(10), int64(9), object(4)\n",
      "memory usage: 339.9+ MB\n"
     ]
    }
   ],
   "source": [
    "df.info()"
   ]
  },
  {
   "cell_type": "code",
   "execution_count": 11,
   "metadata": {},
   "outputs": [
    {
     "data": {
      "text/html": [
       "<div>\n",
       "<style scoped>\n",
       "    .dataframe tbody tr th:only-of-type {\n",
       "        vertical-align: middle;\n",
       "    }\n",
       "\n",
       "    .dataframe tbody tr th {\n",
       "        vertical-align: top;\n",
       "    }\n",
       "\n",
       "    .dataframe thead th {\n",
       "        text-align: right;\n",
       "    }\n",
       "</style>\n",
       "<table border=\"1\" class=\"dataframe\">\n",
       "  <thead>\n",
       "    <tr style=\"text-align: right;\">\n",
       "      <th></th>\n",
       "      <th>DayOfYear</th>\n",
       "      <th>Month</th>\n",
       "      <th>Day</th>\n",
       "      <th>DayOfWeek</th>\n",
       "      <th>Hour</th>\n",
       "      <th>ArrDelay</th>\n",
       "      <th>DepDelay</th>\n",
       "      <th>TaxiIn</th>\n",
       "      <th>TaxiOut</th>\n",
       "      <th>YearOfManufact</th>\n",
       "      <th>Distance</th>\n",
       "      <th>CarrierDelay</th>\n",
       "      <th>WeatherDelay</th>\n",
       "      <th>NASDelay</th>\n",
       "      <th>SecurityDelay</th>\n",
       "      <th>LateAircraftDelay</th>\n",
       "      <th>Is_Delayed</th>\n",
       "      <th>flights_hour</th>\n",
       "      <th>flights_day</th>\n",
       "    </tr>\n",
       "  </thead>\n",
       "  <tbody>\n",
       "    <tr>\n",
       "      <th>count</th>\n",
       "      <td>1.936756e+06</td>\n",
       "      <td>1.936756e+06</td>\n",
       "      <td>1.936756e+06</td>\n",
       "      <td>1.936756e+06</td>\n",
       "      <td>1.936756e+06</td>\n",
       "      <td>1.928369e+06</td>\n",
       "      <td>1.936756e+06</td>\n",
       "      <td>1.929646e+06</td>\n",
       "      <td>1.936301e+06</td>\n",
       "      <td>1.738371e+06</td>\n",
       "      <td>1.936756e+06</td>\n",
       "      <td>1.247486e+06</td>\n",
       "      <td>1.247486e+06</td>\n",
       "      <td>1.247486e+06</td>\n",
       "      <td>1.247486e+06</td>\n",
       "      <td>1.247486e+06</td>\n",
       "      <td>1.936756e+06</td>\n",
       "      <td>1.936756e+06</td>\n",
       "      <td>1.936756e+06</td>\n",
       "    </tr>\n",
       "    <tr>\n",
       "      <th>mean</th>\n",
       "      <td>1.712009e+02</td>\n",
       "      <td>6.111111e+00</td>\n",
       "      <td>1.575346e+01</td>\n",
       "      <td>3.984827e+00</td>\n",
       "      <td>1.439864e+01</td>\n",
       "      <td>4.219988e+01</td>\n",
       "      <td>4.318517e+01</td>\n",
       "      <td>6.812973e+00</td>\n",
       "      <td>1.823221e+01</td>\n",
       "      <td>1.997542e+03</td>\n",
       "      <td>7.656863e+02</td>\n",
       "      <td>1.917939e+01</td>\n",
       "      <td>3.703577e+00</td>\n",
       "      <td>1.502162e+01</td>\n",
       "      <td>9.013728e-02</td>\n",
       "      <td>2.529651e+01</td>\n",
       "      <td>6.527720e-01</td>\n",
       "      <td>1.170402e+01</td>\n",
       "      <td>1.501076e+02</td>\n",
       "    </tr>\n",
       "    <tr>\n",
       "      <th>std</th>\n",
       "      <td>1.070209e+02</td>\n",
       "      <td>3.482546e+00</td>\n",
       "      <td>8.776268e+00</td>\n",
       "      <td>1.995967e+00</td>\n",
       "      <td>4.244424e+00</td>\n",
       "      <td>5.678474e+01</td>\n",
       "      <td>5.340253e+01</td>\n",
       "      <td>5.273597e+00</td>\n",
       "      <td>1.433854e+01</td>\n",
       "      <td>7.221218e+00</td>\n",
       "      <td>5.744799e+02</td>\n",
       "      <td>4.354623e+01</td>\n",
       "      <td>2.149292e+01</td>\n",
       "      <td>3.383307e+01</td>\n",
       "      <td>2.022716e+00</td>\n",
       "      <td>4.205488e+01</td>\n",
       "      <td>4.850997e-01</td>\n",
       "      <td>1.247477e+01</td>\n",
       "      <td>1.573309e+02</td>\n",
       "    </tr>\n",
       "    <tr>\n",
       "      <th>min</th>\n",
       "      <td>1.000000e+00</td>\n",
       "      <td>1.000000e+00</td>\n",
       "      <td>1.000000e+00</td>\n",
       "      <td>1.000000e+00</td>\n",
       "      <td>0.000000e+00</td>\n",
       "      <td>-1.090000e+02</td>\n",
       "      <td>6.000000e+00</td>\n",
       "      <td>0.000000e+00</td>\n",
       "      <td>0.000000e+00</td>\n",
       "      <td>1.956000e+03</td>\n",
       "      <td>1.100000e+01</td>\n",
       "      <td>0.000000e+00</td>\n",
       "      <td>0.000000e+00</td>\n",
       "      <td>0.000000e+00</td>\n",
       "      <td>0.000000e+00</td>\n",
       "      <td>0.000000e+00</td>\n",
       "      <td>0.000000e+00</td>\n",
       "      <td>1.000000e+00</td>\n",
       "      <td>1.000000e+00</td>\n",
       "    </tr>\n",
       "    <tr>\n",
       "      <th>25%</th>\n",
       "      <td>7.800000e+01</td>\n",
       "      <td>3.000000e+00</td>\n",
       "      <td>8.000000e+00</td>\n",
       "      <td>2.000000e+00</td>\n",
       "      <td>1.100000e+01</td>\n",
       "      <td>9.000000e+00</td>\n",
       "      <td>1.200000e+01</td>\n",
       "      <td>4.000000e+00</td>\n",
       "      <td>1.000000e+01</td>\n",
       "      <td>1.993000e+03</td>\n",
       "      <td>3.380000e+02</td>\n",
       "      <td>0.000000e+00</td>\n",
       "      <td>0.000000e+00</td>\n",
       "      <td>0.000000e+00</td>\n",
       "      <td>0.000000e+00</td>\n",
       "      <td>0.000000e+00</td>\n",
       "      <td>0.000000e+00</td>\n",
       "      <td>3.000000e+00</td>\n",
       "      <td>3.900000e+01</td>\n",
       "    </tr>\n",
       "    <tr>\n",
       "      <th>50%</th>\n",
       "      <td>1.660000e+02</td>\n",
       "      <td>6.000000e+00</td>\n",
       "      <td>1.600000e+01</td>\n",
       "      <td>4.000000e+00</td>\n",
       "      <td>1.500000e+01</td>\n",
       "      <td>2.400000e+01</td>\n",
       "      <td>2.400000e+01</td>\n",
       "      <td>6.000000e+00</td>\n",
       "      <td>1.400000e+01</td>\n",
       "      <td>1.999000e+03</td>\n",
       "      <td>6.060000e+02</td>\n",
       "      <td>2.000000e+00</td>\n",
       "      <td>0.000000e+00</td>\n",
       "      <td>2.000000e+00</td>\n",
       "      <td>0.000000e+00</td>\n",
       "      <td>8.000000e+00</td>\n",
       "      <td>1.000000e+00</td>\n",
       "      <td>8.000000e+00</td>\n",
       "      <td>9.800000e+01</td>\n",
       "    </tr>\n",
       "    <tr>\n",
       "      <th>75%</th>\n",
       "      <td>2.530000e+02</td>\n",
       "      <td>9.000000e+00</td>\n",
       "      <td>2.300000e+01</td>\n",
       "      <td>6.000000e+00</td>\n",
       "      <td>1.800000e+01</td>\n",
       "      <td>5.600000e+01</td>\n",
       "      <td>5.300000e+01</td>\n",
       "      <td>8.000000e+00</td>\n",
       "      <td>2.100000e+01</td>\n",
       "      <td>2.003000e+03</td>\n",
       "      <td>9.980000e+02</td>\n",
       "      <td>2.100000e+01</td>\n",
       "      <td>0.000000e+00</td>\n",
       "      <td>1.500000e+01</td>\n",
       "      <td>0.000000e+00</td>\n",
       "      <td>3.300000e+01</td>\n",
       "      <td>1.000000e+00</td>\n",
       "      <td>1.600000e+01</td>\n",
       "      <td>2.030000e+02</td>\n",
       "    </tr>\n",
       "    <tr>\n",
       "      <th>max</th>\n",
       "      <td>3.660000e+02</td>\n",
       "      <td>1.200000e+01</td>\n",
       "      <td>3.100000e+01</td>\n",
       "      <td>7.000000e+00</td>\n",
       "      <td>2.300000e+01</td>\n",
       "      <td>2.461000e+03</td>\n",
       "      <td>2.467000e+03</td>\n",
       "      <td>2.400000e+02</td>\n",
       "      <td>4.220000e+02</td>\n",
       "      <td>2.008000e+03</td>\n",
       "      <td>4.962000e+03</td>\n",
       "      <td>2.436000e+03</td>\n",
       "      <td>1.352000e+03</td>\n",
       "      <td>1.357000e+03</td>\n",
       "      <td>3.920000e+02</td>\n",
       "      <td>1.316000e+03</td>\n",
       "      <td>2.000000e+00</td>\n",
       "      <td>9.400000e+01</td>\n",
       "      <td>1.001000e+03</td>\n",
       "    </tr>\n",
       "  </tbody>\n",
       "</table>\n",
       "</div>"
      ],
      "text/plain": [
       "          DayOfYear         Month           Day     DayOfWeek          Hour  \\\n",
       "count  1.936756e+06  1.936756e+06  1.936756e+06  1.936756e+06  1.936756e+06   \n",
       "mean   1.712009e+02  6.111111e+00  1.575346e+01  3.984827e+00  1.439864e+01   \n",
       "std    1.070209e+02  3.482546e+00  8.776268e+00  1.995967e+00  4.244424e+00   \n",
       "min    1.000000e+00  1.000000e+00  1.000000e+00  1.000000e+00  0.000000e+00   \n",
       "25%    7.800000e+01  3.000000e+00  8.000000e+00  2.000000e+00  1.100000e+01   \n",
       "50%    1.660000e+02  6.000000e+00  1.600000e+01  4.000000e+00  1.500000e+01   \n",
       "75%    2.530000e+02  9.000000e+00  2.300000e+01  6.000000e+00  1.800000e+01   \n",
       "max    3.660000e+02  1.200000e+01  3.100000e+01  7.000000e+00  2.300000e+01   \n",
       "\n",
       "           ArrDelay      DepDelay        TaxiIn       TaxiOut  YearOfManufact  \\\n",
       "count  1.928369e+06  1.936756e+06  1.929646e+06  1.936301e+06    1.738371e+06   \n",
       "mean   4.219988e+01  4.318517e+01  6.812973e+00  1.823221e+01    1.997542e+03   \n",
       "std    5.678474e+01  5.340253e+01  5.273597e+00  1.433854e+01    7.221218e+00   \n",
       "min   -1.090000e+02  6.000000e+00  0.000000e+00  0.000000e+00    1.956000e+03   \n",
       "25%    9.000000e+00  1.200000e+01  4.000000e+00  1.000000e+01    1.993000e+03   \n",
       "50%    2.400000e+01  2.400000e+01  6.000000e+00  1.400000e+01    1.999000e+03   \n",
       "75%    5.600000e+01  5.300000e+01  8.000000e+00  2.100000e+01    2.003000e+03   \n",
       "max    2.461000e+03  2.467000e+03  2.400000e+02  4.220000e+02    2.008000e+03   \n",
       "\n",
       "           Distance  CarrierDelay  WeatherDelay      NASDelay  SecurityDelay  \\\n",
       "count  1.936756e+06  1.247486e+06  1.247486e+06  1.247486e+06   1.247486e+06   \n",
       "mean   7.656863e+02  1.917939e+01  3.703577e+00  1.502162e+01   9.013728e-02   \n",
       "std    5.744799e+02  4.354623e+01  2.149292e+01  3.383307e+01   2.022716e+00   \n",
       "min    1.100000e+01  0.000000e+00  0.000000e+00  0.000000e+00   0.000000e+00   \n",
       "25%    3.380000e+02  0.000000e+00  0.000000e+00  0.000000e+00   0.000000e+00   \n",
       "50%    6.060000e+02  2.000000e+00  0.000000e+00  2.000000e+00   0.000000e+00   \n",
       "75%    9.980000e+02  2.100000e+01  0.000000e+00  1.500000e+01   0.000000e+00   \n",
       "max    4.962000e+03  2.436000e+03  1.352000e+03  1.357000e+03   3.920000e+02   \n",
       "\n",
       "       LateAircraftDelay    Is_Delayed  flights_hour   flights_day  \n",
       "count       1.247486e+06  1.936756e+06  1.936756e+06  1.936756e+06  \n",
       "mean        2.529651e+01  6.527720e-01  1.170402e+01  1.501076e+02  \n",
       "std         4.205488e+01  4.850997e-01  1.247477e+01  1.573309e+02  \n",
       "min         0.000000e+00  0.000000e+00  1.000000e+00  1.000000e+00  \n",
       "25%         0.000000e+00  0.000000e+00  3.000000e+00  3.900000e+01  \n",
       "50%         8.000000e+00  1.000000e+00  8.000000e+00  9.800000e+01  \n",
       "75%         3.300000e+01  1.000000e+00  1.600000e+01  2.030000e+02  \n",
       "max         1.316000e+03  2.000000e+00  9.400000e+01  1.001000e+03  "
      ]
     },
     "execution_count": 11,
     "metadata": {},
     "output_type": "execute_result"
    }
   ],
   "source": [
    "# Descriptive analysis\n",
    "df.describe()"
   ]
  },
  {
   "cell_type": "code",
   "execution_count": 12,
   "metadata": {},
   "outputs": [
    {
     "data": {
      "text/plain": [
       "DayOfYear                 0\n",
       "Month                     0\n",
       "Day                       0\n",
       "DayOfWeek                 0\n",
       "Hour                      0\n",
       "ArrDelay               8387\n",
       "DepDelay                  0\n",
       "TaxiIn                 7110\n",
       "TaxiOut                 455\n",
       "UniqueCarrier             0\n",
       "YearOfManufact       198385\n",
       "Origin                    0\n",
       "Dest                      0\n",
       "Distance                  0\n",
       "Skyway                    0\n",
       "CarrierDelay         689270\n",
       "WeatherDelay         689270\n",
       "NASDelay             689270\n",
       "SecurityDelay        689270\n",
       "LateAircraftDelay    689270\n",
       "Is_Delayed                0\n",
       "flights_hour              0\n",
       "flights_day               0\n",
       "dtype: int64"
      ]
     },
     "execution_count": 12,
     "metadata": {},
     "output_type": "execute_result"
    }
   ],
   "source": [
    "df.isna().sum()"
   ]
  },
  {
   "cell_type": "code",
   "execution_count": 34,
   "metadata": {},
   "outputs": [
    {
     "data": {
      "text/plain": [
       "DayOfYear                 0\n",
       "Month                     0\n",
       "Day                       0\n",
       "DayOfWeek                 0\n",
       "Hour                      0\n",
       "ArrDelay                  0\n",
       "DepDelay                  0\n",
       "TaxiIn                    0\n",
       "TaxiOut                   0\n",
       "UniqueCarrier             0\n",
       "YearOfManufact       197254\n",
       "Origin                    0\n",
       "Dest                      0\n",
       "Distance                  0\n",
       "Skyway                    0\n",
       "CarrierDelay         680883\n",
       "WeatherDelay         680883\n",
       "NASDelay             680883\n",
       "SecurityDelay        680883\n",
       "LateAircraftDelay    680883\n",
       "Is_Delayed                0\n",
       "flights_hour              0\n",
       "flights_day               0\n",
       "dtype: int64"
      ]
     },
     "execution_count": 34,
     "metadata": {},
     "output_type": "execute_result"
    }
   ],
   "source": [
    "df.drop(df[df.Is_Delayed==2].index).isna().sum()"
   ]
  },
  {
   "cell_type": "markdown",
   "metadata": {},
   "source": [
    "## Exercici 1\n",
    "Parteix el conjunt de dadesDelayedFlights.csv en train i test. Estudia els dos conjunts per separat, a nivell descriptiu.\n",
    "\n"
   ]
  },
  {
   "cell_type": "markdown",
   "metadata": {},
   "source": [
    "Voy a dividir el dataset con dos métodos diferentes, división aleatoria y división de manera aleatoria estratificada."
   ]
  },
  {
   "cell_type": "code",
   "execution_count": 14,
   "metadata": {},
   "outputs": [],
   "source": [
    "# Split 1\n",
    "\n",
    "df_train, df_test = train_test_split(df,\n",
    "                                     test_size=0.2,\n",
    "                                     random_state=1984,)"
   ]
  },
  {
   "cell_type": "code",
   "execution_count": 15,
   "metadata": {},
   "outputs": [
    {
     "name": "stdout",
     "output_type": "stream",
     "text": [
      "1    64.411108\n",
      "0    35.155848\n",
      "2     0.433044\n",
      "Name: Is_Delayed, dtype: float64\n",
      "1    64.398762\n",
      "0    35.166683\n",
      "2     0.434554\n",
      "Name: Is_Delayed, dtype: float64\n",
      "1    64.460491\n",
      "0    35.112507\n",
      "2     0.427002\n",
      "Name: Is_Delayed, dtype: float64\n"
     ]
    }
   ],
   "source": [
    "# Distribución de las etiquetas en los dataset de test y train\n",
    "lista=[df,df_train,df_test]\n",
    "for i in lista:\n",
    "    print(i.Is_Delayed.value_counts(normalize=True)*100)"
   ]
  },
  {
   "cell_type": "markdown",
   "metadata": {},
   "source": [
    "La variable categórica, Is_Delayed queda distribuida de manera similar en los dos datasets."
   ]
  },
  {
   "cell_type": "code",
   "execution_count": 16,
   "metadata": {},
   "outputs": [
    {
     "data": {
      "text/html": [
       "<div>\n",
       "<style scoped>\n",
       "    .dataframe tbody tr th:only-of-type {\n",
       "        vertical-align: middle;\n",
       "    }\n",
       "\n",
       "    .dataframe tbody tr th {\n",
       "        vertical-align: top;\n",
       "    }\n",
       "\n",
       "    .dataframe thead th {\n",
       "        text-align: right;\n",
       "    }\n",
       "</style>\n",
       "<table border=\"1\" class=\"dataframe\">\n",
       "  <thead>\n",
       "    <tr style=\"text-align: right;\">\n",
       "      <th></th>\n",
       "      <th>dif_medias(%)</th>\n",
       "      <th>dif_std(%)</th>\n",
       "    </tr>\n",
       "  </thead>\n",
       "  <tbody>\n",
       "    <tr>\n",
       "      <th>DayOfYear</th>\n",
       "      <td>0.107059</td>\n",
       "      <td>0.054686</td>\n",
       "    </tr>\n",
       "    <tr>\n",
       "      <th>Month</th>\n",
       "      <td>0.106323</td>\n",
       "      <td>0.067974</td>\n",
       "    </tr>\n",
       "    <tr>\n",
       "      <th>Day</th>\n",
       "      <td>-0.095468</td>\n",
       "      <td>-0.032567</td>\n",
       "    </tr>\n",
       "    <tr>\n",
       "      <th>DayOfWeek</th>\n",
       "      <td>0.051321</td>\n",
       "      <td>-0.044104</td>\n",
       "    </tr>\n",
       "    <tr>\n",
       "      <th>Hour</th>\n",
       "      <td>0.016977</td>\n",
       "      <td>-0.103107</td>\n",
       "    </tr>\n",
       "    <tr>\n",
       "      <th>ArrDelay</th>\n",
       "      <td>0.018587</td>\n",
       "      <td>-0.091009</td>\n",
       "    </tr>\n",
       "    <tr>\n",
       "      <th>DepDelay</th>\n",
       "      <td>0.038252</td>\n",
       "      <td>-0.172241</td>\n",
       "    </tr>\n",
       "    <tr>\n",
       "      <th>TaxiIn</th>\n",
       "      <td>0.110533</td>\n",
       "      <td>0.413653</td>\n",
       "    </tr>\n",
       "    <tr>\n",
       "      <th>TaxiOut</th>\n",
       "      <td>-0.073187</td>\n",
       "      <td>-0.341950</td>\n",
       "    </tr>\n",
       "    <tr>\n",
       "      <th>YearOfManufact</th>\n",
       "      <td>-0.000189</td>\n",
       "      <td>-0.168730</td>\n",
       "    </tr>\n",
       "    <tr>\n",
       "      <th>Distance</th>\n",
       "      <td>-0.241195</td>\n",
       "      <td>-0.206087</td>\n",
       "    </tr>\n",
       "    <tr>\n",
       "      <th>CarrierDelay</th>\n",
       "      <td>-0.467818</td>\n",
       "      <td>-1.784896</td>\n",
       "    </tr>\n",
       "    <tr>\n",
       "      <th>WeatherDelay</th>\n",
       "      <td>0.469151</td>\n",
       "      <td>1.507233</td>\n",
       "    </tr>\n",
       "    <tr>\n",
       "      <th>NASDelay</th>\n",
       "      <td>0.648134</td>\n",
       "      <td>1.914223</td>\n",
       "    </tr>\n",
       "    <tr>\n",
       "      <th>SecurityDelay</th>\n",
       "      <td>6.531182</td>\n",
       "      <td>10.299671</td>\n",
       "    </tr>\n",
       "    <tr>\n",
       "      <th>LateAircraftDelay</th>\n",
       "      <td>0.126501</td>\n",
       "      <td>0.332696</td>\n",
       "    </tr>\n",
       "    <tr>\n",
       "      <th>Is_Delayed</th>\n",
       "      <td>-0.071434</td>\n",
       "      <td>0.062297</td>\n",
       "    </tr>\n",
       "    <tr>\n",
       "      <th>flights_hour</th>\n",
       "      <td>0.260182</td>\n",
       "      <td>0.294185</td>\n",
       "    </tr>\n",
       "    <tr>\n",
       "      <th>flights_day</th>\n",
       "      <td>0.162369</td>\n",
       "      <td>0.109639</td>\n",
       "    </tr>\n",
       "  </tbody>\n",
       "</table>\n",
       "</div>"
      ],
      "text/plain": [
       "                   dif_medias(%)  dif_std(%)\n",
       "DayOfYear               0.107059    0.054686\n",
       "Month                   0.106323    0.067974\n",
       "Day                    -0.095468   -0.032567\n",
       "DayOfWeek               0.051321   -0.044104\n",
       "Hour                    0.016977   -0.103107\n",
       "ArrDelay                0.018587   -0.091009\n",
       "DepDelay                0.038252   -0.172241\n",
       "TaxiIn                  0.110533    0.413653\n",
       "TaxiOut                -0.073187   -0.341950\n",
       "YearOfManufact         -0.000189   -0.168730\n",
       "Distance               -0.241195   -0.206087\n",
       "CarrierDelay           -0.467818   -1.784896\n",
       "WeatherDelay            0.469151    1.507233\n",
       "NASDelay                0.648134    1.914223\n",
       "SecurityDelay           6.531182   10.299671\n",
       "LateAircraftDelay       0.126501    0.332696\n",
       "Is_Delayed             -0.071434    0.062297\n",
       "flights_hour            0.260182    0.294185\n",
       "flights_day             0.162369    0.109639"
      ]
     },
     "execution_count": 16,
     "metadata": {},
     "output_type": "execute_result"
    }
   ],
   "source": [
    "diferencias={}\n",
    "for var in df_train.describe().columns:\n",
    "    dif_media=((df_train[var].mean()-df_test[var].mean())/df_train[var].mean()*100)\n",
    "    dif_std=((df_train[var].std()-df_test[var].std())/df_train[var].std()*100)\n",
    "    diferencias[var]=(dif_media,dif_std)\n",
    "diferencias=pd.DataFrame.from_dict(diferencias,\n",
    "                                   orient='index',\n",
    "                                   columns=['dif_medias(%)','dif_std(%)'])\n",
    "diferencias"
   ]
  },
  {
   "cell_type": "markdown",
   "metadata": {},
   "source": [
    "No se aprecian grandes diferencias en la media y la desviación estándar de los dos conjuntos."
   ]
  },
  {
   "cell_type": "code",
   "execution_count": 17,
   "metadata": {},
   "outputs": [],
   "source": [
    "# Split 2 - Divión aleatoria estratificada.\n",
    "\n",
    "X=df.drop(columns='Is_Delayed')\n",
    "y=df.Is_Delayed\n",
    "\n",
    "X_train_st, X_test_st , y_train_st , y_test_st = train_test_split(X,y,\n",
    "                                                                 test_size=0.2,\n",
    "                                                                 random_state=1984,\n",
    "                                                                 stratify=y)"
   ]
  },
  {
   "cell_type": "code",
   "execution_count": 18,
   "metadata": {},
   "outputs": [
    {
     "name": "stdout",
     "output_type": "stream",
     "text": [
      "1    64.411108\n",
      "0    35.155848\n",
      "2     0.433044\n",
      "Name: Is_Delayed, dtype: float64\n",
      "1    64.411090\n",
      "0    35.155841\n",
      "2     0.433070\n",
      "Name: Is_Delayed, dtype: float64\n",
      "1    64.411182\n",
      "0    35.155879\n",
      "2     0.432940\n",
      "Name: Is_Delayed, dtype: float64\n"
     ]
    }
   ],
   "source": [
    "lista=[y,y_train_st,y_test_st]\n",
    "for i in lista:\n",
    "    print(i.value_counts(normalize=True)*100)"
   ]
  },
  {
   "cell_type": "code",
   "execution_count": 19,
   "metadata": {},
   "outputs": [
    {
     "data": {
      "text/html": [
       "<div>\n",
       "<style scoped>\n",
       "    .dataframe tbody tr th:only-of-type {\n",
       "        vertical-align: middle;\n",
       "    }\n",
       "\n",
       "    .dataframe tbody tr th {\n",
       "        vertical-align: top;\n",
       "    }\n",
       "\n",
       "    .dataframe thead th {\n",
       "        text-align: right;\n",
       "    }\n",
       "</style>\n",
       "<table border=\"1\" class=\"dataframe\">\n",
       "  <thead>\n",
       "    <tr style=\"text-align: right;\">\n",
       "      <th></th>\n",
       "      <th>dif_medias(%)</th>\n",
       "      <th>dif_std(%)</th>\n",
       "    </tr>\n",
       "  </thead>\n",
       "  <tbody>\n",
       "    <tr>\n",
       "      <th>DayOfYear</th>\n",
       "      <td>0.013986</td>\n",
       "      <td>0.039354</td>\n",
       "    </tr>\n",
       "    <tr>\n",
       "      <th>Month</th>\n",
       "      <td>0.029722</td>\n",
       "      <td>0.051105</td>\n",
       "    </tr>\n",
       "    <tr>\n",
       "      <th>Day</th>\n",
       "      <td>-0.201580</td>\n",
       "      <td>-0.101283</td>\n",
       "    </tr>\n",
       "    <tr>\n",
       "      <th>DayOfWeek</th>\n",
       "      <td>-0.180351</td>\n",
       "      <td>0.122614</td>\n",
       "    </tr>\n",
       "    <tr>\n",
       "      <th>Hour</th>\n",
       "      <td>-0.019622</td>\n",
       "      <td>-0.034784</td>\n",
       "    </tr>\n",
       "    <tr>\n",
       "      <th>ArrDelay</th>\n",
       "      <td>-0.089317</td>\n",
       "      <td>-1.349101</td>\n",
       "    </tr>\n",
       "    <tr>\n",
       "      <th>DepDelay</th>\n",
       "      <td>-0.177721</td>\n",
       "      <td>-1.656681</td>\n",
       "    </tr>\n",
       "    <tr>\n",
       "      <th>TaxiIn</th>\n",
       "      <td>0.221168</td>\n",
       "      <td>0.807635</td>\n",
       "    </tr>\n",
       "    <tr>\n",
       "      <th>TaxiOut</th>\n",
       "      <td>0.040077</td>\n",
       "      <td>-0.263602</td>\n",
       "    </tr>\n",
       "    <tr>\n",
       "      <th>YearOfManufact</th>\n",
       "      <td>0.000402</td>\n",
       "      <td>-0.106253</td>\n",
       "    </tr>\n",
       "    <tr>\n",
       "      <th>Distance</th>\n",
       "      <td>0.146032</td>\n",
       "      <td>0.011859</td>\n",
       "    </tr>\n",
       "    <tr>\n",
       "      <th>CarrierDelay</th>\n",
       "      <td>-0.196324</td>\n",
       "      <td>-2.525689</td>\n",
       "    </tr>\n",
       "    <tr>\n",
       "      <th>WeatherDelay</th>\n",
       "      <td>1.863759</td>\n",
       "      <td>0.178226</td>\n",
       "    </tr>\n",
       "    <tr>\n",
       "      <th>NASDelay</th>\n",
       "      <td>-0.227993</td>\n",
       "      <td>-0.494113</td>\n",
       "    </tr>\n",
       "    <tr>\n",
       "      <th>SecurityDelay</th>\n",
       "      <td>-7.033886</td>\n",
       "      <td>-7.709934</td>\n",
       "    </tr>\n",
       "    <tr>\n",
       "      <th>LateAircraftDelay</th>\n",
       "      <td>-0.221406</td>\n",
       "      <td>-0.219708</td>\n",
       "    </tr>\n",
       "    <tr>\n",
       "      <th>flights_hour</th>\n",
       "      <td>0.141332</td>\n",
       "      <td>0.186987</td>\n",
       "    </tr>\n",
       "    <tr>\n",
       "      <th>flights_day</th>\n",
       "      <td>0.138782</td>\n",
       "      <td>0.116366</td>\n",
       "    </tr>\n",
       "  </tbody>\n",
       "</table>\n",
       "</div>"
      ],
      "text/plain": [
       "                   dif_medias(%)  dif_std(%)\n",
       "DayOfYear               0.013986    0.039354\n",
       "Month                   0.029722    0.051105\n",
       "Day                    -0.201580   -0.101283\n",
       "DayOfWeek              -0.180351    0.122614\n",
       "Hour                   -0.019622   -0.034784\n",
       "ArrDelay               -0.089317   -1.349101\n",
       "DepDelay               -0.177721   -1.656681\n",
       "TaxiIn                  0.221168    0.807635\n",
       "TaxiOut                 0.040077   -0.263602\n",
       "YearOfManufact          0.000402   -0.106253\n",
       "Distance                0.146032    0.011859\n",
       "CarrierDelay           -0.196324   -2.525689\n",
       "WeatherDelay            1.863759    0.178226\n",
       "NASDelay               -0.227993   -0.494113\n",
       "SecurityDelay          -7.033886   -7.709934\n",
       "LateAircraftDelay      -0.221406   -0.219708\n",
       "flights_hour            0.141332    0.186987\n",
       "flights_day             0.138782    0.116366"
      ]
     },
     "execution_count": 19,
     "metadata": {},
     "output_type": "execute_result"
    }
   ],
   "source": [
    "diferencias_st={}\n",
    "for var in X_train_st.describe().columns:\n",
    "    dif_media=((X_train_st[var].mean()-X_test_st[var].mean())/X_train_st[var].mean()*100)\n",
    "    dif_std=((X_train_st[var].std()-X_test_st[var].std())/X_train_st[var].std()*100)\n",
    "    diferencias_st[var]=(dif_media,dif_std)\n",
    "diferencias_st=pd.DataFrame.from_dict(diferencias_st,\n",
    "                                   orient='index',\n",
    "                                   columns=['dif_medias(%)','dif_std(%)'])\n",
    "diferencias_st"
   ]
  },
  {
   "cell_type": "markdown",
   "metadata": {},
   "source": [
    "## Exercici 2\n",
    "Aplica algun procés de transformació (estandarditzar les dades numèriques, crear columnes dummies, polinomis...).\n",
    "\n",
    "\n",
    "## Exercici 3\n",
    "Resumeix les noves columnes generades de manera estadística i gràfica"
   ]
  },
  {
   "cell_type": "code",
   "execution_count": 20,
   "metadata": {},
   "outputs": [],
   "source": [
    "# Estandarizar ArrDelay\n",
    "estandarizador=StandardScaler()"
   ]
  },
  {
   "cell_type": "code",
   "execution_count": 21,
   "metadata": {},
   "outputs": [],
   "source": [
    "DepDelay_stdscaler=estandarizador.fit_transform(df_train.DepDelay.values.reshape(-1,1))"
   ]
  },
  {
   "cell_type": "code",
   "execution_count": 22,
   "metadata": {},
   "outputs": [
    {
     "data": {
      "text/plain": [
       "(6.9306858414864e-17, 1.0)"
      ]
     },
     "execution_count": 22,
     "metadata": {},
     "output_type": "execute_result"
    }
   ],
   "source": [
    "DepDelay_stdscaler.mean(),DepDelay_stdscaler.std()"
   ]
  },
  {
   "cell_type": "code",
   "execution_count": 23,
   "metadata": {},
   "outputs": [
    {
     "data": {
      "text/plain": [
       "(-0.6966205539706949, 35.75616493968142)"
      ]
     },
     "execution_count": 23,
     "metadata": {},
     "output_type": "execute_result"
    }
   ],
   "source": [
    "DepDelay_stdscaler.min(),DepDelay_stdscaler.max()"
   ]
  },
  {
   "cell_type": "code",
   "execution_count": 24,
   "metadata": {},
   "outputs": [
    {
     "data": {
      "image/png": "[encoded data removed]",
      "text/plain": [
       "<Figure size 432x288 with 1 Axes>"
      ]
     },
     "metadata": {
      "needs_background": "light"
     },
     "output_type": "display_data"
    }
   ],
   "source": [
    "plt.hist(DepDelay_stdscaler,bins=100);"
   ]
  },
  {
   "cell_type": "code",
   "execution_count": 25,
   "metadata": {},
   "outputs": [],
   "source": [
    "# Normalizar"
   ]
  },
  {
   "cell_type": "code",
   "execution_count": 26,
   "metadata": {},
   "outputs": [],
   "source": [
    "maxmin=MinMaxScaler()\n",
    "DepDelay_Maxmin=maxmin.fit_transform(df_train[['DepDelay']])"
   ]
  },
  {
   "cell_type": "code",
   "execution_count": 27,
   "metadata": {},
   "outputs": [
    {
     "data": {
      "image/png": "[encoded data removed]",
      "text/plain": [
       "<Figure size 432x288 with 1 Axes>"
      ]
     },
     "metadata": {
      "needs_background": "light"
     },
     "output_type": "display_data"
    }
   ],
   "source": [
    "plt.hist(DepDelay_Maxmin,bins=100);"
   ]
  },
  {
   "cell_type": "code",
   "execution_count": 28,
   "metadata": {},
   "outputs": [
    {
     "data": {
      "text/plain": [
       "(0.0191102146115008, 0.027432745850770168)"
      ]
     },
     "execution_count": 28,
     "metadata": {},
     "output_type": "execute_result"
    }
   ],
   "source": [
    "DepDelay_Maxmin.mean(),DepDelay_Maxmin.std()"
   ]
  },
  {
   "cell_type": "code",
   "execution_count": 29,
   "metadata": {},
   "outputs": [],
   "source": [
    "# Transformación polinómica"
   ]
  },
  {
   "cell_type": "code",
   "execution_count": 30,
   "metadata": {},
   "outputs": [],
   "source": [
    "poli=PolynomialFeatures(degree=3)"
   ]
  },
  {
   "cell_type": "code",
   "execution_count": 31,
   "metadata": {},
   "outputs": [
    {
     "data": {
      "image/png": "[encoded data removed]",
      "text/plain": [
       "<Figure size 432x288 with 1 Axes>"
      ]
     },
     "metadata": {
      "needs_background": "light"
     },
     "output_type": "display_data"
    }
   ],
   "source": [
    "mes_al_cubo=poli.fit_transform(df_train.Month.values.reshape(-1,1))\n",
    "plt.hist(mes_al_cubo,bins=100);"
   ]
  },
  {
   "cell_type": "code",
   "execution_count": null,
   "metadata": {},
   "outputs": [],
   "source": []
  },
  {
   "cell_type": "code",
   "execution_count": null,
   "metadata": {},
   "outputs": [],
   "source": []
  },
  {
   "cell_type": "code",
   "execution_count": null,
   "metadata": {},
   "outputs": [],
   "source": []
  },
  {
   "cell_type": "markdown",
   "metadata": {},
   "source": []
  },
  {
   "cell_type": "code",
   "execution_count": null,
   "metadata": {},
   "outputs": [],
   "source": []
  }
 ],
 "metadata": {
  "kernelspec": {
   "display_name": "Python 3",
   "language": "python",
   "name": "python3"
  },
  "language_info": {
   "codemirror_mode": {
    "name": "ipython",
    "version": 3
   },
   "file_extension": ".py",
   "mimetype": "text/x-python",
   "name": "python",
   "nbconvert_exporter": "python",
   "pygments_lexer": "ipython3",
   "version": "3.8.5"
  }
 },
 "nbformat": 4,
 "nbformat_minor": 4
}
